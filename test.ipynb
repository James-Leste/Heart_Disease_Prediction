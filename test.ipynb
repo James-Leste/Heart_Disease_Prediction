{
 "cells": [
  {
   "cell_type": "code",
   "execution_count": 2,
   "id": "a385d8fe",
   "metadata": {},
   "outputs": [],
   "source": [
    "%config Completer.use_jedi = False  # enable code auto-completion\n",
    "import warnings\n",
    "\n",
    "import numpy as np\n",
    "import pandas as pd\n",
    "import matplotlib.pyplot as plt\n",
    "\n",
    "from sklearn.linear_model import LogisticRegression\n",
    "from sklearn.metrics import accuracy_score, confusion_matrix  # evaluation metrics\n",
    "\n",
    "from sklearn.datasets import fetch_openml \n",
    "from sklearn.model_selection import train_test_split\n",
    "from sklearn.preprocessing import StandardScaler\n",
    "from sklearn.decomposition import PCA"
   ]
  },
  {
   "cell_type": "code",
   "execution_count": 10,
   "id": "d57dae10",
   "metadata": {},
   "outputs": [],
   "source": [
    "data = np.array([2, 5, 6, 7, 5])"
   ]
  },
  {
   "cell_type": "code",
   "execution_count": 19,
   "id": "644a57fc",
   "metadata": {},
   "outputs": [
    {
     "data": {
      "text/plain": [
       "(['two', 'two', 'one', 'thress', 'two']\n",
       " Categories (3, object): ['two' < 'one' < 'thress'],\n",
       " array([1. , 5.5, 6.8, 8. ]))"
      ]
     },
     "execution_count": 19,
     "metadata": {},
     "output_type": "execute_result"
    }
   ],
   "source": [
    "pd.cut(data, [1, 5.5, 6.8, 8], labels=[\"two\",\"one\", \"thress\"], retbins = True)"
   ]
  },
  {
   "cell_type": "code",
   "execution_count": null,
   "id": "bfa7bf6a",
   "metadata": {},
   "outputs": [],
   "source": []
  }
 ],
 "metadata": {
  "kernelspec": {
   "display_name": "Python 3 (ipykernel)",
   "language": "python",
   "name": "python3"
  },
  "language_info": {
   "codemirror_mode": {
    "name": "ipython",
    "version": 3
   },
   "file_extension": ".py",
   "mimetype": "text/x-python",
   "name": "python",
   "nbconvert_exporter": "python",
   "pygments_lexer": "ipython3",
   "version": "3.9.17"
  }
 },
 "nbformat": 4,
 "nbformat_minor": 5
}
